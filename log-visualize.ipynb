{
 "cells": [
  {
   "cell_type": "markdown",
   "metadata": {},
   "source": [
    "## Visualizing the PyTorch model"
   ]
  },
  {
   "cell_type": "code",
   "execution_count": null,
   "metadata": {},
   "outputs": [],
   "source": [
    "# Assuming that you have completed training the classifer, let us plot the training loss vs. iteration. This is an\n",
    "# example to show a simple way to log and plot data from PyTorch.\n",
    "\n",
    "# we neeed matplotlib to plot the graphs for us!\n",
    "import matplotlib\n",
    "# This is needed to save images \n",
    "matplotlib.use('Agg')\n",
    "import matplotlib.pyplot as plt\n",
    "%matplotlib inline"
   ]
  },
  {
   "cell_type": "code",
   "execution_count": null,
   "metadata": {},
   "outputs": [],
   "source": [
    "# Parse the train and val losses one line at a time.\n",
    "import re\n",
    "# regexes to find train and val losses on a line\n",
    "float_regex = r'[-+]?(\\d+(\\.\\d*)?|\\.\\d+)([eE][-+]?\\d+)?'\n",
    "train_loss_re = re.compile('.*Train Loss: ({})'.format(float_regex))\n",
    "val_loss_re = re.compile('.*Val Loss: ({})'.format(float_regex))\n",
    "val_acc_re = re.compile('.*Val Acc: ({})'.format(float_regex))\n",
    "# extract one loss for each logged iteration\n",
    "train_losses = []\n",
    "val_losses = []\n",
    "val_accs = []\n",
    "# NOTE: You may need to change this file name.\n",
    "with open('softmax.log', 'r') as f:\n",
    "    for line in f:\n",
    "        train_match = train_loss_re.match(line)\n",
    "        val_match = val_loss_re.match(line)\n",
    "        val_acc_match = val_acc_re.match(line)\n",
    "        if train_match:\n",
    "            train_losses.append(float(train_match.group(1)))\n",
    "        if val_match:\n",
    "            val_losses.append(float(val_match.group(1)))\n",
    "        if val_acc_match:\n",
    "            val_accs.append(float(val_acc_match.group(1)))"
   ]
  },
  {
   "cell_type": "code",
   "execution_count": null,
   "metadata": {},
   "outputs": [],
   "source": [
    "plt.figure()\n",
    "plt.plot(train_losses, label='train')\n",
    "plt.plot(val_losses, label='val')\n",
    "plt.title('Softmax Learning Curve')\n",
    "plt.ylabel('loss')\n",
    "plt.legend()\n",
    "\n",
    "plt.figure()\n",
    "plt.plot(val_accs, label='val')\n",
    "plt.title('Softmax Validation Accuracy During Training')\n",
    "plt.ylabel('accuracy')\n",
    "plt.legend()"
   ]
  }
 ],
 "metadata": {
  "kernelspec": {
   "display_name": "Python 2",
   "language": "python",
   "name": "python2"
  },
  "language_info": {
   "codemirror_mode": {
    "name": "ipython",
    "version": 2
   },
   "file_extension": ".py",
   "mimetype": "text/x-python",
   "name": "python",
   "nbconvert_exporter": "python",
   "pygments_lexer": "ipython2",
   "version": "2.7.15"
  }
 },
 "nbformat": 4,
 "nbformat_minor": 1
}
